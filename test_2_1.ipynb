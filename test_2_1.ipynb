{
  "nbformat": 4,
  "nbformat_minor": 0,
  "metadata": {
    "colab": {
      "provenance": [],
      "authorship_tag": "ABX9TyM2Xc5suQB6gcLkqPaiLgNT",
      "include_colab_link": true
    },
    "kernelspec": {
      "name": "python3",
      "display_name": "Python 3"
    },
    "language_info": {
      "name": "python"
    }
  },
  "cells": [
    {
      "cell_type": "markdown",
      "metadata": {
        "id": "view-in-github",
        "colab_type": "text"
      },
      "source": [
        "<a href=\"https://colab.research.google.com/github/ryotaro1218/project1_2/blob/main/test_2_1.ipynb\" target=\"_parent\"><img src=\"https://colab.research.google.com/assets/colab-badge.svg\" alt=\"Open In Colab\"/></a>"
      ]
    },
    {
      "cell_type": "code",
      "execution_count": 32,
      "metadata": {
        "colab": {
          "base_uri": "https://localhost:8080/"
        },
        "id": "cUjUf24qWtjL",
        "outputId": "6fee7598-9803-4643-ab58-85e018cf2d09"
      },
      "outputs": [
        {
          "output_type": "stream",
          "name": "stdout",
          "text": [
            "                   g  alpha     a    ak  Solow  Growth Rate  TFP Growth  \\\n",
            "country                                                                   \n",
            "Canada          0.89   0.35  0.15  0.63   0.10         0.89        0.15   \n",
            "France          0.83   0.38  0.09  0.57   0.17         0.83        0.09   \n",
            "Germany         0.66   0.37  0.36  0.44  -0.14         0.66        0.36   \n",
            "Italy          -0.04   0.48 -0.77  0.53   0.20        -0.04       -0.77   \n",
            "Japan           0.71   0.43  0.14  0.63  -0.06         0.71        0.14   \n",
            "United Kingdom  1.02   0.41  0.23  0.57   0.21         1.02        0.23   \n",
            "United States   1.54   0.39  0.68  0.78   0.08         1.54        0.68   \n",
            "Average         0.80   0.40  0.13  0.59   0.08         0.80        0.13   \n",
            "\n",
            "                Capital Deepening  A Contribution  AK Contribution  \n",
            "country                                                             \n",
            "Canada                       0.63            2.13            -1.49  \n",
            "France                       0.57            0.78             0.19  \n",
            "Germany                      0.44            0.52             0.45  \n",
            "Italy                        0.53           -0.71             0.63  \n",
            "Japan                        0.63           -0.24             1.15  \n",
            "United Kingdom               0.57           -0.02             0.76  \n",
            "United States                0.78            1.60            -1.47  \n",
            "Average                      0.59            0.58             0.03  \n"
          ]
        }
      ],
      "source": [
        "import pandas as pd\n",
        "import numpy as np\n",
        "\n",
        "\n",
        "# Load data\n",
        "pwt1001 = pd.read_stata('https://dataverse.nl/api/access/datafile/354098')\n",
        "\n",
        "# Filter and select relevant columns\n",
        "data = pwt1001.loc[pwt1001['country'].isin([\"Canada\",  \"France\", \"Germany\", \"Italy\", \"Japan\", \"United Kingdom\", \"United States\"])][['year', 'countrycode', 'rgdpna', 'rkna', 'emp', 'labsh', 'rtfpna', 'pop', 'avh', \"country\"]]\n",
        "data = data.loc[(data['year'] >= 1995) & (data['year'] <= 2019)].dropna()\n",
        "\n",
        "# Calculate additional columns\n",
        "data['y_pc'] = np.log(data['rgdpna'] / data['emp'])  # GDP per worker\n",
        "data['k_pc'] = np.log(data['rkna'] / data['emp'])  # Capital per worker\n",
        "data['lna'] = np.log(data['rtfpna'])\n",
        "data['alpha'] = 1 - data['labsh']\n",
        "\n",
        "# Order by year\n",
        "data = data.sort_values('year')\n",
        "\n",
        "# Group by isocode\n",
        "grouped_data = data.groupby('country')\n",
        "\n",
        "# Calculate growth rates and Solow residual\n",
        "data['g'] = (grouped_data['y_pc'].diff() * 100)  # Growth rate of GDP per capita\n",
        "data['a'] = (grouped_data['lna'].diff() * 100)  # Growth rate of A\n",
        "data['k'] = (grouped_data['k_pc'].diff() * 100)  # Growth rate of k per capita\n",
        "data['ak'] = data['k'] * data['alpha']\n",
        "data['Solow'] = data['g'] - data['a'] - data['ak']\n",
        "data['ag'] = data['a'] / data['g']\n",
        "data['akg'] = data['ak'] / data['g']\n",
        "\n",
        "\n",
        "# Remove missing values\n",
        "data = data.dropna()\n",
        "\n",
        "# Calculate summary statistics\n",
        "summary = data.groupby('country').agg({'g': 'mean', 'alpha': \"mean\", 'a': \"mean\", 'ak': \"mean\", 'Solow': \"mean\", 'ag': \"mean\", 'akg': \"mean\"})\n",
        "\n",
        "# Calculate additional summary statistics\n",
        "summary['Growth Rate'] = summary['g']\n",
        "summary['TFP Growth'] = summary['a']\n",
        "summary['Capital Deepening'] = summary['ak']\n",
        "summary['Solow'] = summary['Solow']\n",
        "summary['A Contribution'] = contributions['ag']\n",
        "summary['AK Contribution'] = contributions['akg']\n",
        "\n",
        "\n",
        "summary.loc['Average'] = np.nan\n",
        "summary.loc['Average', :] = summary.mean()\n",
        "\n",
        "rounded_summary = summary.round(2)\n",
        "\n",
        "# Print output\n",
        "print(rounded_summary)"
      ]
    }
  ]
}