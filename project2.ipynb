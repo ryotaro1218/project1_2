{
  "nbformat": 4,
  "nbformat_minor": 0,
  "metadata": {
    "colab": {
      "provenance": [],
      "authorship_tag": "ABX9TyOYFX7mXuM6EMA9Zk5AXnD2",
      "include_colab_link": true
    },
    "kernelspec": {
      "name": "python3",
      "display_name": "Python 3"
    },
    "language_info": {
      "name": "python"
    }
  },
  "cells": [
    {
      "cell_type": "markdown",
      "metadata": {
        "id": "view-in-github",
        "colab_type": "text"
      },
      "source": [
        "<a href=\"https://colab.research.google.com/github/ryotaro1218/project1_2/blob/main/project2.ipynb\" target=\"_parent\"><img src=\"https://colab.research.google.com/assets/colab-badge.svg\" alt=\"Open In Colab\"/></a>"
      ]
    },
    {
      "cell_type": "code",
      "execution_count": 1,
      "metadata": {
        "colab": {
          "base_uri": "https://localhost:8080/"
        },
        "id": "gyRAbUYqLo_F",
        "outputId": "7974a8ef-4f50-446a-c1d5-83844babfc87"
      },
      "outputs": [
        {
          "output_type": "stream",
          "name": "stdout",
          "text": [
            "                Growth Rate  TFP Growth  Capital Growth  TFP Share  \\\n",
            "country                                                              \n",
            "Canada                 0.89        0.58            0.31       0.65   \n",
            "France                 0.83        0.51            0.32       0.62   \n",
            "Germany                0.66        0.41            0.25       0.63   \n",
            "Italy                 -0.04       -0.02           -0.02       0.52   \n",
            "Japan                  0.71        0.41            0.31       0.57   \n",
            "United Kingdom         1.02        0.59            0.43       0.59   \n",
            "United States          1.54        0.94            0.60       0.61   \n",
            "Average                0.80        0.49            0.31       0.60   \n",
            "\n",
            "                Capital Share  \n",
            "country                        \n",
            "Canada                   0.35  \n",
            "France                   0.38  \n",
            "Germany                  0.37  \n",
            "Italy                    0.48  \n",
            "Japan                    0.43  \n",
            "United Kingdom           0.41  \n",
            "United States            0.39  \n",
            "Average                  0.40  \n"
          ]
        }
      ],
      "source": [
        "import pandas as pd\n",
        "import numpy as np\n",
        "\n",
        "\n",
        "# Load data\n",
        "pwt1001 = pd.read_stata('https://dataverse.nl/api/access/datafile/354098')\n",
        "\n",
        "# Filter and select relevant columns\n",
        "data = pwt1001.loc[pwt1001['country'].isin([\"Canada\",  \"France\", \"Germany\", \"Italy\", \"Japan\", \"United Kingdom\", \"United States\"])][['year', 'countrycode', 'rgdpna', 'rkna', 'emp', 'labsh', 'rtfpna', 'pop', 'avh', \"country\"]]\n",
        "data = data.loc[(data['year'] >= 1995) & (data['year'] <= 2019)].dropna()\n",
        "\n",
        "# Calculate additional columns\n",
        "data['y_pc'] = np.log(data['rgdpna'] / data['emp'])  # GDP per worker\n",
        "data['k_pc'] = np.log(data['rkna'] / data['emp'])  # Capital per worker\n",
        "data['a'] = 1 - data['labsh']  # Capital share\n",
        "\n",
        "# Order by year\n",
        "data = data.sort_values('year')\n",
        "\n",
        "# Group by isocode\n",
        "grouped_data = data.groupby('countrycode')\n",
        "\n",
        "# Calculate growth rates and Solow residual\n",
        "data['g'] = (grouped_data['y_pc'].diff() * 100)  # Growth rate of GDP per capita\n",
        "data['k'] = data['g'] * data['a']\n",
        "data['tfp'] = data['g'] - data['k']\n",
        "\n",
        "# Remove missing values\n",
        "data = data.dropna()\n",
        "\n",
        "# Calculate summary statistics\n",
        "summary = data.groupby('country').agg({'g': 'mean', 'a': \"mean\", 'k': \"mean\", 'tfp': \"mean\", 'labsh': \"mean\"})\n",
        "# Calculate additional summary statistics\n",
        "summary['Growth Rate'] = summary['g']\n",
        "summary['TFP Growth'] = summary['tfp']\n",
        "summary['Capital Growth'] = summary['k']\n",
        "summary['TFP Share'] = summary['labsh']\n",
        "summary['Capital Share'] = summary['a']\n",
        "\n",
        "summary = summary[['Growth Rate', 'TFP Growth', 'Capital Growth', 'TFP Share', 'Capital Share']]\n",
        "\n",
        "summary.loc['Average'] = np.nan\n",
        "summary.loc['Average', :] = summary.mean()\n",
        "\n",
        "rounded_summary = summary.round(2)\n",
        "\n",
        "# Print output\n",
        "print(rounded_summary)"
      ]
    }
  ]
}