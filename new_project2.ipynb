{
  "nbformat": 4,
  "nbformat_minor": 0,
  "metadata": {
    "colab": {
      "provenance": [],
      "authorship_tag": "ABX9TyMeYBJKUJncjD8BWtzF2YBK",
      "include_colab_link": true
    },
    "kernelspec": {
      "name": "python3",
      "display_name": "Python 3"
    },
    "language_info": {
      "name": "python"
    }
  },
  "cells": [
    {
      "cell_type": "markdown",
      "metadata": {
        "id": "view-in-github",
        "colab_type": "text"
      },
      "source": [
        "<a href=\"https://colab.research.google.com/github/ryotaro1218/project1_2/blob/main/new_project2.ipynb\" target=\"_parent\"><img src=\"https://colab.research.google.com/assets/colab-badge.svg\" alt=\"Open In Colab\"/></a>"
      ]
    },
    {
      "cell_type": "code",
      "execution_count": 13,
      "metadata": {
        "colab": {
          "base_uri": "https://localhost:8080/"
        },
        "id": "ljK8VOHM5EsY",
        "outputId": "edfd0c2a-f680-4ba6-fbd2-2c0e675645fc"
      },
      "outputs": [
        {
          "output_type": "stream",
          "name": "stdout",
          "text": [
            "                Growth Rate  TFP Growth  Capital Deepening  Residual error  \\\n",
            "country                                                                      \n",
            "Canada                 0.89        0.15               0.63            0.10   \n",
            "France                 0.83        0.09               0.57            0.17   \n",
            "Germany                0.66        0.36               0.44           -0.14   \n",
            "Italy                 -0.04       -0.77               0.53            0.20   \n",
            "Japan                  0.71        0.14               0.63           -0.06   \n",
            "United Kingdom         1.02        0.23               0.57            0.21   \n",
            "United States          1.54        0.68               0.78            0.08   \n",
            "Average                0.80        0.13               0.59            0.08   \n",
            "\n",
            "                TFP Share  Capital Share  Error Share  \n",
            "country                                                \n",
            "Canada               0.17           0.71         0.12  \n",
            "France               0.11           0.69         0.20  \n",
            "Germany              0.54           0.66        -0.20  \n",
            "Italy               20.77         -14.36        -5.41  \n",
            "Japan                0.20           0.89        -0.09  \n",
            "United Kingdom       0.23           0.56         0.21  \n",
            "United States        0.44           0.51         0.05  \n",
            "Average              3.21          -1.48        -0.73  \n"
          ]
        }
      ],
      "source": [
        "import pandas as pd\n",
        "import numpy as np\n",
        "\n",
        "\n",
        "# Load data\n",
        "pwt1001 = pd.read_stata('https://dataverse.nl/api/access/datafile/354098')\n",
        "\n",
        "# Filter and select relevant columns\n",
        "data = pwt1001.loc[pwt1001['country'].isin([\"Canada\",  \"France\", \"Germany\", \"Italy\", \"Japan\", \"United Kingdom\", \"United States\"])][['year', 'countrycode', 'rgdpna', 'rkna', 'emp', 'labsh', 'rtfpna', 'pop', 'avh', \"country\"]]\n",
        "data = data.loc[(data['year'] >= 1995) & (data['year'] <= 2019)].dropna()\n",
        "\n",
        "# Calculate additional columns\n",
        "data['y_pc'] = np.log(data['rgdpna'] / data['emp'])  # GDP per worker\n",
        "data['k_pc'] = np.log(data['rkna'] / data['emp'])  # Capital per worker\n",
        "data['a'] = np.log(data['rtfpna'] )  # lnA\n",
        "data['al'] = 1 - data['labsh']  # Capital share\n",
        "\n",
        "\n",
        "# Order by year\n",
        "data = data.sort_values('year')\n",
        "\n",
        "# Group by isocode\n",
        "grouped_data = data.groupby('countrycode')\n",
        "\n",
        "# Calculate growth rates and Solow residual\n",
        "data['gg'] = (grouped_data['y_pc'].diff() * 100)  # Growth rate of GDP per capita\n",
        "data['gc'] = (grouped_data['k_pc'].diff() * 100)  # Growth rate of Capital per worker\n",
        "data['ga'] = (grouped_data['a'].diff() * 100)  # Growth rate of A\n",
        "data['algc'] = data['al'] * data['gc']\n",
        "data['re'] = data['gg'] - data['ga'] -data['algc']\n",
        "\n",
        "# Remove missing values\n",
        "data = data.dropna()\n",
        "\n",
        "# Calculate summary statistics\n",
        "summary = data.groupby('country').agg({'gg': 'mean', 'algc': \"mean\", 'ga': \"mean\", 're': \"mean\"})\n",
        "\n",
        "# Calculate additional summary statistics\n",
        "summary['Growth Rate'] = summary['gg']\n",
        "summary['TFP Growth'] = summary['ga']\n",
        "summary['Residual error'] = summary['re']\n",
        "summary['Capital Deepening'] = summary['algc']\n",
        "summary['TFP Share'] = (summary['TFP Growth'] / summary['Growth Rate'])\n",
        "summary['Capital Share'] = (summary['Capital Deepening'] / summary['Growth Rate'])\n",
        "summary['Error Share'] = (summary['Residual error'] / summary['Growth Rate'])\n",
        "\n",
        "summary = summary[['Growth Rate', 'TFP Growth', 'Capital Deepening', 'Residual error', 'TFP Share', 'Capital Share', 'Error Share']]\n",
        "\n",
        "summary.loc['Average'] = np.nan\n",
        "summary.loc['Average', :] = summary.mean()\n",
        "\n",
        "rounded_summary = summary.round(2)\n",
        "\n",
        "# Print output\n",
        "print(rounded_summary)"
      ]
    }
  ]
}